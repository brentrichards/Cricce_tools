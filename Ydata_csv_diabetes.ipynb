{
 "cells": [
  {
   "cell_type": "markdown",
   "id": "8f0f80d7-d6fd-4bd4-ae24-9d455fc69b56",
   "metadata": {},
   "source": [
    "## A basic use of Ydata to visualise your data, both in line and exported as an HTML file\n",
    "## requirements are small, with most installed with ydata. \n",
    "## Github repository is https://github.com/ydataai/ydata-profiling\n",
    "\n",
    "### !pip install ydata-profiling jupyter ipywidgets\n"
   ]
  },
  {
   "cell_type": "code",
   "execution_count": null,
   "id": "f25fd86c-bbbc-4edd-8fc8-8887e8ecde77",
   "metadata": {
    "tags": []
   },
   "outputs": [],
   "source": [
    "# some basic imports\n",
    "import pandas as pd\n",
    "from ydata_profiling import ProfileReport\n"
   ]
  },
  {
   "cell_type": "code",
   "execution_count": null,
   "id": "6ec7a281-3188-4671-a273-58af65676f64",
   "metadata": {
    "tags": []
   },
   "outputs": [],
   "source": [
    "# Load the CSV file into a pandas DataFrame, from the RawData directory\n",
    "Raw_data = \"./RawData/Pima_diabetes.csv\"\n",
    "df = pd.read_csv(Raw_data)\n",
    "df.head()"
   ]
  },
  {
   "cell_type": "code",
   "execution_count": null,
   "id": "1a4279c6-da76-4f2f-8884-c7aff3dc43c5",
   "metadata": {
    "tags": []
   },
   "outputs": [],
   "source": [
    "# Generate the profile report\n",
    "# note that if the dataset is large, it might take some time. If very large, start with minimal=True to exclude correlations\n",
    "profile = ProfileReport(df, title=\"Diabetes Dataset Profiling Report\", explorative=True) #minimal=True"
   ]
  },
  {
   "cell_type": "code",
   "execution_count": null,
   "id": "d65f52fa-d167-49f9-b7d1-639ddb01e2be",
   "metadata": {
    "tags": []
   },
   "outputs": [],
   "source": [
    "# Display the report inline in the Jupyter Notebook\n",
    "profile.to_notebook_iframe()"
   ]
  },
  {
   "cell_type": "code",
   "execution_count": null,
   "id": "3b4e3c22-9136-4ad8-b821-440d13fe15e3",
   "metadata": {
    "tags": []
   },
   "outputs": [],
   "source": [
    "# Save the report to the './reports' subdirectory\n",
    "profile.to_file(\"./reports/ydata_diabetes_report.html\")"
   ]
  }
 ],
 "metadata": {
  "kernelspec": {
   "display_name": "Python 3 (ipykernel)",
   "language": "python",
   "name": "python3"
  },
  "language_info": {
   "codemirror_mode": {
    "name": "ipython",
    "version": 3
   },
   "file_extension": ".py",
   "mimetype": "text/x-python",
   "name": "python",
   "nbconvert_exporter": "python",
   "pygments_lexer": "ipython3",
   "version": "3.10.13"
  }
 },
 "nbformat": 4,
 "nbformat_minor": 5
}
